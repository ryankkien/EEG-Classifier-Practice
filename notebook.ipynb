{
 "cells": [
  {
   "cell_type": "code",
   "execution_count": 2,
   "metadata": {},
   "outputs": [],
   "source": [
    "import pandas as pd\n",
    "from torch.utils.data import DataLoader, TensorDataset\n",
    "import torch\n",
    "from sklearn.preprocessing import OneHotEncoder\n",
    "\n",
    "# Load the data\n",
    "data = pd.read_csv('emotions.csv')\n",
    "\n",
    "# Convert to tensors\n",
    "features = torch.tensor(data.iloc[:, :-1].values)\n",
    "\n",
    "# One hot encode the labels\n",
    "encoder = OneHotEncoder(sparse=False)\n",
    "labels = encoder.fit_transform(data.iloc[:, -1].values.reshape(-1, 1))\n",
    "labels = torch.tensor(labels)\n",
    "\n",
    "# Create a TensorDataset\n",
    "dataset = TensorDataset(features, labels)\n",
    "\n",
    "# Define a DataLoader\n",
    "dataloader = DataLoader(dataset, batch_size=32, shuffle=True)\n",
    "\n"
   ]
  },
  {
   "cell_type": "code",
   "execution_count": null,
   "metadata": {},
   "outputs": [],
   "source": []
  }
 ],
 "metadata": {
  "kernelspec": {
   "display_name": "base",
   "language": "python",
   "name": "python3"
  },
  "language_info": {
   "codemirror_mode": {
    "name": "ipython",
    "version": 3
   },
   "file_extension": ".py",
   "mimetype": "text/x-python",
   "name": "python",
   "nbconvert_exporter": "python",
   "pygments_lexer": "ipython3",
   "version": "3.9.7"
  },
  "orig_nbformat": 4
 },
 "nbformat": 4,
 "nbformat_minor": 2
}
