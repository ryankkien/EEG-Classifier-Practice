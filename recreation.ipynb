{
 "cells": [
  {
   "cell_type": "code",
   "execution_count": 4,
   "metadata": {},
   "outputs": [],
   "source": [
    "import torch\n",
    "import torch.nn as nn"
   ]
  },
  {
   "cell_type": "code",
   "execution_count": 15,
   "metadata": {},
   "outputs": [],
   "source": [
    "class MultiKernelBlock(nn.Module):\n",
    "    def __init__(self, in_channels, out_channels, kernels):\n",
    "        super(MultiKernelBlock, self).__init__()\n",
    "        self.convs = nn.ModuleList([\n",
    "            nn.Sequential(\n",
    "                nn.Conv2d(in_channels, out_channels, kernel),\n",
    "                nn.BatchNorm2d(out_channels),\n",
    "                nn.ReLU(),\n",
    "                nn.AvgPool2d(kernel_size=(5,1), stride=(5,1))\n",
    "            ) for kernel in kernels\n",
    "        ])\n",
    "        nn.Dropout(p=0.2)\n",
    "\n",
    "    def forward(self, x):\n",
    "        outputs = [conv(x) for conv in self.convs]\n",
    "        return torch.cat(outputs, 1)\n"
   ]
  },
  {
   "cell_type": "code",
   "execution_count": 16,
   "metadata": {},
   "outputs": [],
   "source": [
    "class SeparableConv2d(nn.Module):\n",
    "\n",
    "    def __init__(self, in_channels, out_channels, kernel_size, bias=False):\n",
    "        super(SeparableConv2d, self).__init__()\n",
    "        self.depthwise = nn.Conv2d(in_channels, in_channels, kernel_size=kernel_size, \n",
    "                                groups=in_channels, bias=bias, padding=1)\n",
    "        self.bn1 = nn.BatchNorm2d(in_channels)  # Added BatchNorm after depthwise convolution\n",
    "        self.pointwise = nn.Conv2d(in_channels, out_channels, \n",
    "                                kernel_size=1, bias=bias)\n",
    "        self.bn2 = nn.BatchNorm2d(out_channels)  # Added BatchNorm after pointwise convolution\n",
    "        self.relu = nn.ReLU()  # Added ReLU activation\n",
    "\n",
    "    def forward(self, x):\n",
    "        out = self.depthwise(x)\n",
    "        out = self.bn1(out)  # Apply BatchNorm after depthwise convolution\n",
    "        out = self.relu(out)  # Apply ReLU activation\n",
    "        out = self.pointwise(out)\n",
    "        out = self.bn2(out)  # Apply BatchNorm after pointwise convolution\n",
    "        out = self.relu(out)  # Apply ReLU activation\n",
    "        return out"
   ]
  },
  {
   "cell_type": "code",
   "execution_count": 17,
   "metadata": {},
   "outputs": [],
   "source": [
    "class TemporalSEBlock(nn.Module):\n",
    "    def __init__(self, in_channels):\n",
    "        super(TemporalSEBlock, self).__init__()\n",
    "        self.global_pool = nn.AdaptiveAvgPool2d((1, 1))  # Changed to global pooling\n",
    "        self.fc = nn.Sequential(\n",
    "            nn.Linear(in_channels, in_channels // 16, bias=False),\n",
    "            nn.ReLU(inplace=True),\n",
    "            nn.Linear(in_channels // 16, in_channels, bias=False),\n",
    "            nn.Sigmoid()\n",
    "        )\n",
    "\n",
    "    def forward(self, x):\n",
    "        b, c, _, _ = x.size()\n",
    "        y = self.global_pool(x).view(b, c)  # Changed to global pooling\n",
    "        y = self.fc(y).view(b, c, 1, 1)\n",
    "        return x * y.expand_as(x)\n"
   ]
  },
  {
   "cell_type": "code",
   "execution_count": null,
   "metadata": {},
   "outputs": [],
   "source": [
    "class SpatialSE(nn.Module):\n",
    "    def __init__(self, in_channels):\n",
    "        super(SpatialSE, self).__init__()\n",
    "        self.global_pool = nn.AdaptiveAvgPool2d((1, 1))  # Changed to global pooling\n",
    "        self.excitation = nn.Sequential(\n",
    "            nn.Linear(in_channels, in_channels // 16, bias=False),  # Two dense layers to reduce the channel complexity\n",
    "            nn.ReLU(inplace=True),\n",
    "            nn.Linear(in_channels // 16, in_channels, bias=False),\n",
    "            nn.Sigmoid()\n",
    "        )\n",
    "\n",
    "    def forward(self, x):\n",
    "        b, c, _, _ = x.size()\n",
    "        y = self.global_pool(x).view(b, c)  # Changed to global pooling\n",
    "        y = self.excitation(y).view(b, c, 1, 1)\n",
    "        return x * y.expand_as(x)  # After performing these convolutions, the extracted features are generated and transmitted to the classification layer\n"
   ]
  },
  {
   "cell_type": "code",
   "execution_count": 20,
   "metadata": {},
   "outputs": [],
   "source": [
    "class Net(nn.Module):\n",
    "    def __init__(self):\n",
    "        super(Net, self).__init__()\n",
    "        self.multi_kernel_block = MultiKernelBlock(in_channels=3, out_channels=64, kernels=[5, 10, 20, 40])\n",
    "        self.temp_SE_block = TemporalSEBlock(64)  # Corrected the spelling here and added the required argument\n",
    "        self.separable_conv2d = SeparableConv2d(in_channels=64, out_channels=128, kernel_size=3)  # Added this line to use the SeparableConv2d block\n",
    "        self.avg_pool = AvgPool2d(10*1, stride=10*1)\n",
    "        self.dropout = dropout(p=.2)\n",
    "    def forward(self, x):\n",
    "        x = self.multi_kernel_block(x)\n",
    "        x = self.temp_SE_block(x)  # Added this line to use the TemporalSEBlock\n",
    "        x = self.separable_conv2d(x)  # Added this line to use the SeparableConv2d block\n",
    "        return x"
   ]
  },
  {
   "cell_type": "code",
   "execution_count": null,
   "metadata": {},
   "outputs": [],
   "source": []
  }
 ],
 "metadata": {
  "kernelspec": {
   "display_name": "base",
   "language": "python",
   "name": "python3"
  },
  "language_info": {
   "codemirror_mode": {
    "name": "ipython",
    "version": 3
   },
   "file_extension": ".py",
   "mimetype": "text/x-python",
   "name": "python",
   "nbconvert_exporter": "python",
   "pygments_lexer": "ipython3",
   "version": "3.10.9"
  },
  "orig_nbformat": 4
 },
 "nbformat": 4,
 "nbformat_minor": 2
}
